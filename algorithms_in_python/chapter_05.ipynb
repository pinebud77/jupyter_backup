{
 "cells": [
  {
   "cell_type": "markdown",
   "metadata": {},
   "source": [
    "# Chapter contents"
   ]
  },
  {
   "cell_type": "markdown",
   "metadata": {},
   "source": [
    "## code fragment 5.1"
   ]
  },
  {
   "cell_type": "code",
   "execution_count": 1,
   "metadata": {},
   "outputs": [
    {
     "name": "stdout",
     "output_type": "stream",
     "text": [
      "Length:   0; Size in bytes:   64\n",
      "Length:   1; Size in bytes:   96\n",
      "Length:   2; Size in bytes:   96\n",
      "Length:   3; Size in bytes:   96\n",
      "Length:   4; Size in bytes:   96\n",
      "Length:   5; Size in bytes:  128\n",
      "Length:   6; Size in bytes:  128\n",
      "Length:   7; Size in bytes:  128\n",
      "Length:   8; Size in bytes:  128\n",
      "Length:   9; Size in bytes:  192\n",
      "Length:  10; Size in bytes:  192\n",
      "Length:  11; Size in bytes:  192\n",
      "Length:  12; Size in bytes:  192\n",
      "Length:  13; Size in bytes:  192\n",
      "Length:  14; Size in bytes:  192\n",
      "Length:  15; Size in bytes:  192\n",
      "Length:  16; Size in bytes:  192\n",
      "Length:  17; Size in bytes:  264\n",
      "Length:  18; Size in bytes:  264\n",
      "Length:  19; Size in bytes:  264\n",
      "Length:  20; Size in bytes:  264\n",
      "Length:  21; Size in bytes:  264\n",
      "Length:  22; Size in bytes:  264\n",
      "Length:  23; Size in bytes:  264\n",
      "Length:  24; Size in bytes:  264\n",
      "Length:  25; Size in bytes:  264\n"
     ]
    }
   ],
   "source": [
    "import sys\n",
    "\n",
    "data = []\n",
    "\n",
    "for k in range(26):\n",
    "    a = len(data)\n",
    "    b = sys.getsizeof(data)\n",
    "    print('Length: {0:3d}; Size in bytes: {1:4d}'.format(a, b))\n",
    "    data.append(None)"
   ]
  },
  {
   "cell_type": "markdown",
   "metadata": {},
   "source": [
    "## Excercises"
   ]
  },
  {
   "cell_type": "code",
   "execution_count": 4,
   "metadata": {},
   "outputs": [],
   "source": [
    "# R-5.1\n",
    "# nothing to do"
   ]
  },
  {
   "cell_type": "code",
   "execution_count": 9,
   "metadata": {},
   "outputs": [
    {
     "name": "stdout",
     "output_type": "stream",
     "text": [
      "0\n",
      "4\n",
      "8\n",
      "16\n",
      "25\n"
     ]
    }
   ],
   "source": [
    "# R-5.2\n",
    "\n",
    "import sys\n",
    "\n",
    "data = []\n",
    "\n",
    "for k in range (26):\n",
    "    a = len(data)\n",
    "    prev_size = sys.getsizeof(data)\n",
    "    data.append(None)\n",
    "    if prev_size != sys.getsizeof(data):\n",
    "        print(a)"
   ]
  },
  {
   "cell_type": "code",
   "execution_count": 10,
   "metadata": {},
   "outputs": [
    {
     "name": "stdout",
     "output_type": "stream",
     "text": [
      "26: 344\n",
      "25: 344\n",
      "24: 344\n",
      "23: 344\n",
      "22: 344\n",
      "21: 344\n",
      "20: 344\n",
      "19: 344\n",
      "18: 344\n",
      "17: 344\n",
      "16: 256\n",
      "15: 256\n",
      "14: 256\n",
      "13: 256\n",
      "12: 256\n",
      "11: 208\n",
      "10: 208\n",
      "9: 208\n",
      "8: 160\n",
      "7: 160\n",
      "6: 160\n",
      "5: 128\n",
      "4: 128\n",
      "3: 112\n",
      "2: 104\n",
      "1: 96\n"
     ]
    }
   ],
   "source": [
    "# R-5.3\n",
    "\n",
    "import sys\n",
    "\n",
    "data = []\n",
    "\n",
    "for k in range(26):\n",
    "    data.append(None)\n",
    "\n",
    "for k in range(26):\n",
    "    a = len(data)\n",
    "    size = sys.getsizeof(data)\n",
    "    print('%d: %d' % (a, size))\n",
    "    del(data[0])"
   ]
  },
  {
   "cell_type": "code",
   "execution_count": 11,
   "metadata": {},
   "outputs": [],
   "source": [
    "# R-5.4\n",
    "# -_-"
   ]
  },
  {
   "cell_type": "code",
   "execution_count": 12,
   "metadata": {},
   "outputs": [],
   "source": [
    "# R-5.5\n",
    "# -_-"
   ]
  },
  {
   "cell_type": "code",
   "execution_count": 13,
   "metadata": {},
   "outputs": [],
   "source": [
    "# R-5.6\n",
    "# -_-"
   ]
  },
  {
   "cell_type": "code",
   "execution_count": 15,
   "metadata": {},
   "outputs": [],
   "source": [
    "# R-5.7\n",
    "\n",
    "#1. sort the list\n",
    "#2. compare k vs k+1 item where (0 <= k < n-1)"
   ]
  },
  {
   "cell_type": "code",
   "execution_count": 16,
   "metadata": {},
   "outputs": [],
   "source": [
    "# R-5.8\n",
    "# -_-"
   ]
  },
  {
   "cell_type": "code",
   "execution_count": 17,
   "metadata": {},
   "outputs": [],
   "source": [
    "# -_-"
   ]
  },
  {
   "cell_type": "markdown",
   "metadata": {},
   "source": [
    "## Creativity"
   ]
  },
  {
   "cell_type": "code",
   "execution_count": 18,
   "metadata": {},
   "outputs": [
    {
     "name": "stdout",
     "output_type": "stream",
     "text": [
      "35\n",
      "46\n"
     ]
    }
   ],
   "source": [
    "# C-5.13\n",
    "\n",
    "import sys\n",
    "\n",
    "data = []\n",
    "\n",
    "for k in range(26):\n",
    "    data.append(None)\n",
    "\n",
    "for k in range (26):\n",
    "    a = len(data)\n",
    "    prev_size = sys.getsizeof(data)\n",
    "    data.append(None)\n",
    "    if prev_size != sys.getsizeof(data):\n",
    "        print(a)"
   ]
  },
  {
   "cell_type": "code",
   "execution_count": 26,
   "metadata": {},
   "outputs": [
    {
     "name": "stdout",
     "output_type": "stream",
     "text": [
      "[9, 1, 8, 10, 7, 6, 2, 3, 4, 5]\n"
     ]
    }
   ],
   "source": [
    "# C-5.14\n",
    "\n",
    "from random import randrange\n",
    "\n",
    "def myshuffle(l):\n",
    "    for n in range(len(l), 0, -1):\n",
    "        target = randrange(n)\n",
    "        value = l[target]\n",
    "        del(l[target])\n",
    "        l.append(value)\n",
    "\n",
    "l = [1, 2, 3, 4, 5, 6, 7, 8, 9, 10]\n",
    "myshuffle(l)\n",
    "print(l)"
   ]
  },
  {
   "cell_type": "code",
   "execution_count": 27,
   "metadata": {},
   "outputs": [],
   "source": [
    "# C-5.15\n",
    "# T_T"
   ]
  }
 ],
 "metadata": {
  "kernelspec": {
   "display_name": "Python 3",
   "language": "python",
   "name": "python3"
  },
  "language_info": {
   "codemirror_mode": {
    "name": "ipython",
    "version": 3
   },
   "file_extension": ".py",
   "mimetype": "text/x-python",
   "name": "python",
   "nbconvert_exporter": "python",
   "pygments_lexer": "ipython3",
   "version": "3.7.3"
  }
 },
 "nbformat": 4,
 "nbformat_minor": 2
}
